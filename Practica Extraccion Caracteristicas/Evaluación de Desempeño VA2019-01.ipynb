{
 "cells": [
  {
   "cell_type": "markdown",
   "metadata": {},
   "source": [
    "# Métodos de clasificación y evaluación de desempeño."
   ]
  },
  {
   "cell_type": "markdown",
   "metadata": {},
   "source": [
    "Cualquier modelo de aprendizaje supervisado requiere una previa verificación antes de ser utilizado en el mundo real. \n",
    "\n",
    "La precisión de un modelo se mide con base en la función de costo.\n",
    "\n",
    "$$  L(Y, f(x))  $$ \n",
    "\n",
    "$L$ recibe el valor real $Y$ (dato considerado como verdadero) y el valor que el modelo $f$ predice con el dato de entrada $x$.\n",
    "\n",
    "Por tanto, el error de $L$ depende únicamente del dato de entrada $x$ en un modelo entrenado determinado. El objetivo es minimizar el error de $L$, sabiendo que ésta representa la diferencia entre el valor teórico y el predicho.\n",
    "\n",
    "$$ Err = E[ L(Y, f(x)) ]  $$\n",
    "\n",
    "$Err$ representa el error promedio para todos los datos $x$ y $E[]$ la esperanza calculada sobre estos valores obtenidos.\n",
    "\n",
    "Las funciones de costo/pérdida pueden ser diferentes, entre ellas el conocido error cuadrático medio (ECM).\n",
    "\n",
    "<center><img src= \"res/ecm.png\"></center>"
   ]
  },
  {
   "cell_type": "markdown",
   "metadata": {},
   "source": [
    "# División de los datos."
   ]
  },
  {
   "cell_type": "markdown",
   "metadata": {},
   "source": [
    "En la mayoría de los casos, para todos los modelos de aprendizaje de máquina se dividen los datos en dos conjuntos, uno que sirve para entrenar el modelo y el otro para verificar los resultados del modelo ya entrenado, estos son denominados set de entrenamiento y set de pruebas (train and test sets).\n",
    "\n",
    "Los datos, usualmente vienen con el siguiente formato:\n",
    "\n",
    "$[X, Y]$ donde $X$ son las variables independientes (los datos de entrada), y $Y$ es la variable dependiente (lo que se quiere predecir).\n",
    "\n",
    "Una consideración muy importante al dividir los datos en varios conjuntos es mantener las proporciones del dataset original.\n",
    "\n",
    "Usualmente, la proporción que se deja entre el conjunto de entrenamiento y prueba es 80-20. El 80% de los datos para el conjunto de entrenamiento y el 20% restante para el de pruebas, este tipo de división suele hacerse cuando se cuentan con pocos datos (un par de decenas de miles).\n",
    "\n",
    "Debe tenerse en cuenta que si se trabaja con Big Data, el volumen de datos es mucho mayor y no hay problema al realizar proporciones del tipo 98% - 2%, dado que se tienen varios millones."
   ]
  },
  {
   "cell_type": "markdown",
   "metadata": {},
   "source": [
    "# Ejercicio practico."
   ]
  },
  {
   "cell_type": "markdown",
   "metadata": {},
   "source": [
    "A continuación, se leerá un dataset de diabetes que se encuentra en la carpeta \"datos\", tal como puede apreciarse, éste es un archivo de tipo \"csv\", como el que usted creó en el ejercicio guiado."
   ]
  },
  {
   "cell_type": "code",
   "execution_count": 67,
   "metadata": {},
   "outputs": [],
   "source": [
    "# Paquetes necesarios para la manipulación de los datos\n",
    "import pandas as pd\n",
    "from sklearn.metrics import auc\n",
    "from matplotlib import pyplot as plt\n",
    "from sklearn.model_selection import train_test_split    \n",
    "from sklearn.metrics import precision_score, mean_squared_error, confusion_matrix, mean_absolute_error\n",
    "from sklearn.preprocessing import MinMaxScaler\n",
    "from sklearn import linear_model\n",
    "from sklearn.metrics import accuracy_score\n",
    "from sklearn.metrics import confusion_matrix\n",
    "from sklearn.metrics import roc_curve\n",
    "import warnings\n",
    "warnings.filterwarnings('ignore')"
   ]
  },
  {
   "cell_type": "markdown",
   "metadata": {},
   "source": [
    "Una vez leídos los paquetes necesarios para manipular los datos, entre ellos se encuentra pandas y sklearn, debe leerse el dataset de diabetes."
   ]
  },
  {
   "cell_type": "code",
   "execution_count": 68,
   "metadata": {},
   "outputs": [],
   "source": [
    "diabetes = pd.read_csv(\"datos/diabetes.csv\", sep=\",\")"
   ]
  },
  {
   "cell_type": "markdown",
   "metadata": {},
   "source": [
    "Probemos que haya sido leído, imprimamos la información, para no utilizar espacio del notebook innecesariamente, solo será impresa la cola del dataset(si se quiere leer la parte superior, se utiliza \"head\")."
   ]
  },
  {
   "cell_type": "code",
   "execution_count": 69,
   "metadata": {},
   "outputs": [
    {
     "data": {
      "text/html": [
       "<div>\n",
       "<style scoped>\n",
       "    .dataframe tbody tr th:only-of-type {\n",
       "        vertical-align: middle;\n",
       "    }\n",
       "\n",
       "    .dataframe tbody tr th {\n",
       "        vertical-align: top;\n",
       "    }\n",
       "\n",
       "    .dataframe thead th {\n",
       "        text-align: right;\n",
       "    }\n",
       "</style>\n",
       "<table border=\"1\" class=\"dataframe\">\n",
       "  <thead>\n",
       "    <tr style=\"text-align: right;\">\n",
       "      <th></th>\n",
       "      <th>preg</th>\n",
       "      <th>plas</th>\n",
       "      <th>pres</th>\n",
       "      <th>skin</th>\n",
       "      <th>insu</th>\n",
       "      <th>mass</th>\n",
       "      <th>pedi</th>\n",
       "      <th>age</th>\n",
       "      <th>class</th>\n",
       "    </tr>\n",
       "  </thead>\n",
       "  <tbody>\n",
       "    <tr>\n",
       "      <th>763</th>\n",
       "      <td>10</td>\n",
       "      <td>101</td>\n",
       "      <td>76</td>\n",
       "      <td>48</td>\n",
       "      <td>180</td>\n",
       "      <td>32.9</td>\n",
       "      <td>0.171</td>\n",
       "      <td>63</td>\n",
       "      <td>tested_negative</td>\n",
       "    </tr>\n",
       "    <tr>\n",
       "      <th>764</th>\n",
       "      <td>2</td>\n",
       "      <td>122</td>\n",
       "      <td>70</td>\n",
       "      <td>27</td>\n",
       "      <td>0</td>\n",
       "      <td>36.8</td>\n",
       "      <td>0.340</td>\n",
       "      <td>27</td>\n",
       "      <td>tested_negative</td>\n",
       "    </tr>\n",
       "    <tr>\n",
       "      <th>765</th>\n",
       "      <td>5</td>\n",
       "      <td>121</td>\n",
       "      <td>72</td>\n",
       "      <td>23</td>\n",
       "      <td>112</td>\n",
       "      <td>26.2</td>\n",
       "      <td>0.245</td>\n",
       "      <td>30</td>\n",
       "      <td>tested_negative</td>\n",
       "    </tr>\n",
       "    <tr>\n",
       "      <th>766</th>\n",
       "      <td>1</td>\n",
       "      <td>126</td>\n",
       "      <td>60</td>\n",
       "      <td>0</td>\n",
       "      <td>0</td>\n",
       "      <td>30.1</td>\n",
       "      <td>0.349</td>\n",
       "      <td>47</td>\n",
       "      <td>tested_positive</td>\n",
       "    </tr>\n",
       "    <tr>\n",
       "      <th>767</th>\n",
       "      <td>1</td>\n",
       "      <td>93</td>\n",
       "      <td>70</td>\n",
       "      <td>31</td>\n",
       "      <td>0</td>\n",
       "      <td>30.4</td>\n",
       "      <td>0.315</td>\n",
       "      <td>23</td>\n",
       "      <td>tested_negative</td>\n",
       "    </tr>\n",
       "  </tbody>\n",
       "</table>\n",
       "</div>"
      ],
      "text/plain": [
       "     preg  plas  pres  skin  insu  mass   pedi  age            class\n",
       "763    10   101    76    48   180  32.9  0.171   63  tested_negative\n",
       "764     2   122    70    27     0  36.8  0.340   27  tested_negative\n",
       "765     5   121    72    23   112  26.2  0.245   30  tested_negative\n",
       "766     1   126    60     0     0  30.1  0.349   47  tested_positive\n",
       "767     1    93    70    31     0  30.4  0.315   23  tested_negative"
      ]
     },
     "execution_count": 69,
     "metadata": {},
     "output_type": "execute_result"
    }
   ],
   "source": [
    "#diabetes.head()\n",
    "diabetes.tail()"
   ]
  },
  {
   "cell_type": "markdown",
   "metadata": {},
   "source": [
    "### Es importante conocer los datos con los que se está trabajando.\n",
    "\n",
    "Por tanto, es sugerible imprimir las columnas de nuestro dataset y adicionalmente, conocer las dimensiones del mismo."
   ]
  },
  {
   "cell_type": "code",
   "execution_count": 70,
   "metadata": {},
   "outputs": [
    {
     "data": {
      "text/plain": [
       "Index(['preg', 'plas', 'pres', 'skin', 'insu', 'mass', 'pedi', 'age', 'class'], dtype='object')"
      ]
     },
     "execution_count": 70,
     "metadata": {},
     "output_type": "execute_result"
    }
   ],
   "source": [
    "#Nombres de las características de éste dataset\n",
    "diabetes.columns"
   ]
  },
  {
   "cell_type": "code",
   "execution_count": 71,
   "metadata": {},
   "outputs": [
    {
     "data": {
      "text/plain": [
       "(768, 9)"
      ]
     },
     "execution_count": 71,
     "metadata": {},
     "output_type": "execute_result"
    }
   ],
   "source": [
    "#(Número de datos, Número de características) ó (filas,columnas)\n",
    "diabetes.shape"
   ]
  },
  {
   "cell_type": "markdown",
   "metadata": {},
   "source": [
    "Una de las columnas es la clase \"class\", es muy importante conocerla dado que corresponde a los datos Y del dataset (lo que busca predecirse a partir del conjunto de datos X y el modelo escogido)."
   ]
  },
  {
   "cell_type": "code",
   "execution_count": 72,
   "metadata": {},
   "outputs": [
    {
     "data": {
      "text/plain": [
       "{'tested_negative', 'tested_positive'}"
      ]
     },
     "execution_count": 72,
     "metadata": {},
     "output_type": "execute_result"
    }
   ],
   "source": [
    "#Mostrar las clases del dataset\n",
    "set(diabetes[\"class\"])"
   ]
  },
  {
   "cell_type": "markdown",
   "metadata": {},
   "source": [
    "En este caso específico, este dataset requiere clasificación de tipo binario."
   ]
  },
  {
   "cell_type": "markdown",
   "metadata": {},
   "source": [
    "## Normalización o escalamiento."
   ]
  },
  {
   "cell_type": "markdown",
   "metadata": {},
   "source": [
    "Una vez conocidos los datos, hay que realizar un proceso de escalamiento. Consiste en llevar todos los datos numéricos en el rango [0,1].\n",
    "\n",
    "Aunque existen múltiples scaler (MinMax, standard, etc) en este caso específico, escogeremos MinMax."
   ]
  },
  {
   "cell_type": "code",
   "execution_count": 73,
   "metadata": {},
   "outputs": [],
   "source": [
    "#Seleccionar el scaler\n",
    "scaler = MinMaxScaler()"
   ]
  },
  {
   "cell_type": "markdown",
   "metadata": {},
   "source": [
    "## ¡La clase NO debe normalizarse!"
   ]
  },
  {
   "cell_type": "markdown",
   "metadata": {},
   "source": [
    "Por lo tanto, antes de normalizar los datos utilizando el scaler, separaremos los datos de entrada \"X\" y los datos reales \"Y\" o clase."
   ]
  },
  {
   "cell_type": "code",
   "execution_count": 74,
   "metadata": {},
   "outputs": [],
   "source": [
    "X_diabetes = diabetes.drop(\"class\", axis=1)\n",
    "Y_diabetes = diabetes[\"class\"]"
   ]
  },
  {
   "cell_type": "markdown",
   "metadata": {},
   "source": [
    "Para estar seguros, imprimamos X_diabetes y Y_diabetes."
   ]
  },
  {
   "cell_type": "code",
   "execution_count": 75,
   "metadata": {},
   "outputs": [
    {
     "data": {
      "text/html": [
       "<div>\n",
       "<style scoped>\n",
       "    .dataframe tbody tr th:only-of-type {\n",
       "        vertical-align: middle;\n",
       "    }\n",
       "\n",
       "    .dataframe tbody tr th {\n",
       "        vertical-align: top;\n",
       "    }\n",
       "\n",
       "    .dataframe thead th {\n",
       "        text-align: right;\n",
       "    }\n",
       "</style>\n",
       "<table border=\"1\" class=\"dataframe\">\n",
       "  <thead>\n",
       "    <tr style=\"text-align: right;\">\n",
       "      <th></th>\n",
       "      <th>preg</th>\n",
       "      <th>plas</th>\n",
       "      <th>pres</th>\n",
       "      <th>skin</th>\n",
       "      <th>insu</th>\n",
       "      <th>mass</th>\n",
       "      <th>pedi</th>\n",
       "      <th>age</th>\n",
       "    </tr>\n",
       "  </thead>\n",
       "  <tbody>\n",
       "    <tr>\n",
       "      <th>0</th>\n",
       "      <td>6</td>\n",
       "      <td>148</td>\n",
       "      <td>72</td>\n",
       "      <td>35</td>\n",
       "      <td>0</td>\n",
       "      <td>33.6</td>\n",
       "      <td>0.627</td>\n",
       "      <td>50</td>\n",
       "    </tr>\n",
       "    <tr>\n",
       "      <th>1</th>\n",
       "      <td>1</td>\n",
       "      <td>85</td>\n",
       "      <td>66</td>\n",
       "      <td>29</td>\n",
       "      <td>0</td>\n",
       "      <td>26.6</td>\n",
       "      <td>0.351</td>\n",
       "      <td>31</td>\n",
       "    </tr>\n",
       "    <tr>\n",
       "      <th>2</th>\n",
       "      <td>8</td>\n",
       "      <td>183</td>\n",
       "      <td>64</td>\n",
       "      <td>0</td>\n",
       "      <td>0</td>\n",
       "      <td>23.3</td>\n",
       "      <td>0.672</td>\n",
       "      <td>32</td>\n",
       "    </tr>\n",
       "    <tr>\n",
       "      <th>3</th>\n",
       "      <td>1</td>\n",
       "      <td>89</td>\n",
       "      <td>66</td>\n",
       "      <td>23</td>\n",
       "      <td>94</td>\n",
       "      <td>28.1</td>\n",
       "      <td>0.167</td>\n",
       "      <td>21</td>\n",
       "    </tr>\n",
       "    <tr>\n",
       "      <th>4</th>\n",
       "      <td>0</td>\n",
       "      <td>137</td>\n",
       "      <td>40</td>\n",
       "      <td>35</td>\n",
       "      <td>168</td>\n",
       "      <td>43.1</td>\n",
       "      <td>2.288</td>\n",
       "      <td>33</td>\n",
       "    </tr>\n",
       "  </tbody>\n",
       "</table>\n",
       "</div>"
      ],
      "text/plain": [
       "   preg  plas  pres  skin  insu  mass   pedi  age\n",
       "0     6   148    72    35     0  33.6  0.627   50\n",
       "1     1    85    66    29     0  26.6  0.351   31\n",
       "2     8   183    64     0     0  23.3  0.672   32\n",
       "3     1    89    66    23    94  28.1  0.167   21\n",
       "4     0   137    40    35   168  43.1  2.288   33"
      ]
     },
     "execution_count": 75,
     "metadata": {},
     "output_type": "execute_result"
    }
   ],
   "source": [
    "X_diabetes.head()"
   ]
  },
  {
   "cell_type": "code",
   "execution_count": 76,
   "metadata": {},
   "outputs": [
    {
     "data": {
      "text/plain": [
       "0    tested_positive\n",
       "1    tested_negative\n",
       "2    tested_positive\n",
       "3    tested_negative\n",
       "4    tested_positive\n",
       "Name: class, dtype: object"
      ]
     },
     "execution_count": 76,
     "metadata": {},
     "output_type": "execute_result"
    }
   ],
   "source": [
    "Y_diabetes.head()"
   ]
  },
  {
   "cell_type": "markdown",
   "metadata": {},
   "source": [
    "## Ahora, se escalan los datos X_diabetes."
   ]
  },
  {
   "cell_type": "code",
   "execution_count": 77,
   "metadata": {},
   "outputs": [],
   "source": [
    "X_diabetes_scaled = scaler.fit_transform(X_diabetes)"
   ]
  },
  {
   "cell_type": "markdown",
   "metadata": {},
   "source": [
    "Una vez escalados, son convertidos en un array, volvamos esta información un dataframe de pandas y procedamos a trabajar con él."
   ]
  },
  {
   "cell_type": "code",
   "execution_count": 78,
   "metadata": {},
   "outputs": [],
   "source": [
    "X_diabetes_scaled = pd.DataFrame(X_diabetes_scaled, columns = X_diabetes.columns)"
   ]
  },
  {
   "cell_type": "markdown",
   "metadata": {},
   "source": [
    "Una vez más, imprimamos los datos para verificar que estén en el rango [0,1]."
   ]
  },
  {
   "cell_type": "code",
   "execution_count": 79,
   "metadata": {},
   "outputs": [
    {
     "data": {
      "text/html": [
       "<div>\n",
       "<style scoped>\n",
       "    .dataframe tbody tr th:only-of-type {\n",
       "        vertical-align: middle;\n",
       "    }\n",
       "\n",
       "    .dataframe tbody tr th {\n",
       "        vertical-align: top;\n",
       "    }\n",
       "\n",
       "    .dataframe thead th {\n",
       "        text-align: right;\n",
       "    }\n",
       "</style>\n",
       "<table border=\"1\" class=\"dataframe\">\n",
       "  <thead>\n",
       "    <tr style=\"text-align: right;\">\n",
       "      <th></th>\n",
       "      <th>preg</th>\n",
       "      <th>plas</th>\n",
       "      <th>pres</th>\n",
       "      <th>skin</th>\n",
       "      <th>insu</th>\n",
       "      <th>mass</th>\n",
       "      <th>pedi</th>\n",
       "      <th>age</th>\n",
       "    </tr>\n",
       "  </thead>\n",
       "  <tbody>\n",
       "    <tr>\n",
       "      <th>0</th>\n",
       "      <td>0.352941</td>\n",
       "      <td>0.743719</td>\n",
       "      <td>0.590164</td>\n",
       "      <td>0.353535</td>\n",
       "      <td>0.000000</td>\n",
       "      <td>0.500745</td>\n",
       "      <td>0.234415</td>\n",
       "      <td>0.483333</td>\n",
       "    </tr>\n",
       "    <tr>\n",
       "      <th>1</th>\n",
       "      <td>0.058824</td>\n",
       "      <td>0.427136</td>\n",
       "      <td>0.540984</td>\n",
       "      <td>0.292929</td>\n",
       "      <td>0.000000</td>\n",
       "      <td>0.396423</td>\n",
       "      <td>0.116567</td>\n",
       "      <td>0.166667</td>\n",
       "    </tr>\n",
       "    <tr>\n",
       "      <th>2</th>\n",
       "      <td>0.470588</td>\n",
       "      <td>0.919598</td>\n",
       "      <td>0.524590</td>\n",
       "      <td>0.000000</td>\n",
       "      <td>0.000000</td>\n",
       "      <td>0.347243</td>\n",
       "      <td>0.253629</td>\n",
       "      <td>0.183333</td>\n",
       "    </tr>\n",
       "    <tr>\n",
       "      <th>3</th>\n",
       "      <td>0.058824</td>\n",
       "      <td>0.447236</td>\n",
       "      <td>0.540984</td>\n",
       "      <td>0.232323</td>\n",
       "      <td>0.111111</td>\n",
       "      <td>0.418778</td>\n",
       "      <td>0.038002</td>\n",
       "      <td>0.000000</td>\n",
       "    </tr>\n",
       "    <tr>\n",
       "      <th>4</th>\n",
       "      <td>0.000000</td>\n",
       "      <td>0.688442</td>\n",
       "      <td>0.327869</td>\n",
       "      <td>0.353535</td>\n",
       "      <td>0.198582</td>\n",
       "      <td>0.642325</td>\n",
       "      <td>0.943638</td>\n",
       "      <td>0.200000</td>\n",
       "    </tr>\n",
       "  </tbody>\n",
       "</table>\n",
       "</div>"
      ],
      "text/plain": [
       "       preg      plas      pres      skin      insu      mass      pedi  \\\n",
       "0  0.352941  0.743719  0.590164  0.353535  0.000000  0.500745  0.234415   \n",
       "1  0.058824  0.427136  0.540984  0.292929  0.000000  0.396423  0.116567   \n",
       "2  0.470588  0.919598  0.524590  0.000000  0.000000  0.347243  0.253629   \n",
       "3  0.058824  0.447236  0.540984  0.232323  0.111111  0.418778  0.038002   \n",
       "4  0.000000  0.688442  0.327869  0.353535  0.198582  0.642325  0.943638   \n",
       "\n",
       "        age  \n",
       "0  0.483333  \n",
       "1  0.166667  \n",
       "2  0.183333  \n",
       "3  0.000000  \n",
       "4  0.200000  "
      ]
     },
     "execution_count": 79,
     "metadata": {},
     "output_type": "execute_result"
    }
   ],
   "source": [
    "X_diabetes_scaled.head()"
   ]
  },
  {
   "cell_type": "markdown",
   "metadata": {},
   "source": [
    "# División en conjuntos de entrenamiento y pruebas."
   ]
  },
  {
   "cell_type": "markdown",
   "metadata": {},
   "source": [
    "La primera consideración que debe hacerse es, ¿Con cuántos datos cuento?, efectivamente tenemos 768 datos y 9 características distintas, por lo tanto, lo mejor es optar por una división tipo 80-20."
   ]
  },
  {
   "cell_type": "markdown",
   "metadata": {},
   "source": [
    "Utilizando el dataframe obtenido tras normalizar (recordemos que podemos utilizar los mismos datos para Y dado que la clase no recibió ningún tipo de tratamiento), redefinimos X_diabetes & Y_diabetes."
   ]
  },
  {
   "cell_type": "code",
   "execution_count": 80,
   "metadata": {},
   "outputs": [],
   "source": [
    "#Antes de realizar una división 80-20, definir los conjuntos X & Y.\n",
    "\n",
    "X_diabetes = X_diabetes_scaled\n",
    "Y_diabetes = diabetes[\"class\"]"
   ]
  },
  {
   "cell_type": "markdown",
   "metadata": {},
   "source": [
    "Verificar que tengan el mismo numero de filas es importante.\n",
    "\n",
    "También es sugerible imprimir X_diabetes & Y_diabetes en caso de no saber si están correctos los conjuntos de trabajo."
   ]
  },
  {
   "cell_type": "code",
   "execution_count": 81,
   "metadata": {},
   "outputs": [
    {
     "name": "stdout",
     "output_type": "stream",
     "text": [
      "El número de filas coinciden, ¡Es correcto!\n"
     ]
    }
   ],
   "source": [
    "if X_diabetes.shape[0] == Y_diabetes.shape[0]:\n",
    "    print(\"El número de filas coinciden, ¡Es correcto!\")\n"
   ]
  },
  {
   "cell_type": "markdown",
   "metadata": {},
   "source": [
    "Finalmente, debe realizarse la división de los datos, utilizando la función \"split\"."
   ]
  },
  {
   "cell_type": "code",
   "execution_count": 82,
   "metadata": {},
   "outputs": [],
   "source": [
    "X_train_diabetes, X_test_diabetes, y_train_diabetes, y_test_diabetes = train_test_split(X_diabetes, Y_diabetes, test_size=0.20)"
   ]
  },
  {
   "cell_type": "markdown",
   "metadata": {},
   "source": [
    "Nótese que el \"test_size\" es 0.20, lo que coincide con la teoría.\n",
    "\n",
    "Por otro lado, esta función le da valores de prueba y entrenamiento distintos cada vez que el código es utilizado, por lo tanto, no debe sorprenderse si hay variaciones en los conjuntos, lo que se mantendrá constante es la proporción entre éstos."
   ]
  },
  {
   "cell_type": "markdown",
   "metadata": {},
   "source": [
    "# Modelos de clasificación.\n",
    "\n",
    "Tal como se sugiere, el primer modelo de clasificación que se utilizará será la Regresión Logística.\n",
    "\n",
    "Posteriormente se observará la matriz de confusión asociada y las métricas derivadas de ésta."
   ]
  },
  {
   "cell_type": "code",
   "execution_count": 83,
   "metadata": {},
   "outputs": [],
   "source": [
    "#Regresión Logística con sklearn\n",
    "regresion_logistica = linear_model.LogisticRegression()"
   ]
  },
  {
   "cell_type": "markdown",
   "metadata": {},
   "source": [
    "Ahora, ajustemos los datos al modelo. Nótese que se utilizan los conjuntos X e Y de entrenamiento."
   ]
  },
  {
   "cell_type": "code",
   "execution_count": 84,
   "metadata": {},
   "outputs": [
    {
     "data": {
      "text/plain": [
       "LogisticRegression(C=1.0, class_weight=None, dual=False, fit_intercept=True,\n",
       "                   intercept_scaling=1, l1_ratio=None, max_iter=100,\n",
       "                   multi_class='warn', n_jobs=None, penalty='l2',\n",
       "                   random_state=None, solver='warn', tol=0.0001, verbose=0,\n",
       "                   warm_start=False)"
      ]
     },
     "execution_count": 84,
     "metadata": {},
     "output_type": "execute_result"
    }
   ],
   "source": [
    "regresion_logistica.fit(X_train_diabetes, y_train_diabetes)"
   ]
  },
  {
   "cell_type": "markdown",
   "metadata": {},
   "source": [
    "Una vez ajustado el modelo, observemos los resultados obtenidos.\n",
    "\n",
    "Esta primer pincelada puede darse reportando el <i><b> error de entrenamiento </b></i> y el <i><b> error de pruebas. </b></i>\n",
    "\n",
    "Para ello, realizaremos predicciones sobre el conjunto de pruebas(X_test_diabetes) y entrenamiento (X_train_diabetes) y calcularemos su \"accuracy_score\" respecto de los conjuntos de entrenamiento y prueba del conjunto Y (datos reales)."
   ]
  },
  {
   "cell_type": "code",
   "execution_count": 85,
   "metadata": {},
   "outputs": [
    {
     "name": "stdout",
     "output_type": "stream",
     "text": [
      "Precisión de entrenamiento = 0.7719869706840391\n"
     ]
    }
   ],
   "source": [
    "y_pred_train = regresion_logistica.predict(X_train_diabetes)\n",
    "efectividad_entrenamiento = accuracy_score(y_train_diabetes, y_pred_train)\n",
    "print(\"Precisión de entrenamiento = \" + str(efectividad_entrenamiento))"
   ]
  },
  {
   "cell_type": "code",
   "execution_count": 86,
   "metadata": {},
   "outputs": [
    {
     "name": "stdout",
     "output_type": "stream",
     "text": [
      "Precisión de pruebas: 0.7597402597402597\n"
     ]
    }
   ],
   "source": [
    "y_pred_test = regresion_logistica.predict(X_test_diabetes)\n",
    "efectividad_pruebas = accuracy_score(y_test_diabetes, y_pred_test)\n",
    "print(\"Precisión de pruebas: \" + str(efectividad_pruebas))"
   ]
  },
  {
   "cell_type": "markdown",
   "metadata": {},
   "source": [
    "¿El modelo es un buen clasificador? ¿Esta sobre ajustado, bien o subajustado?"
   ]
  },
  {
   "cell_type": "markdown",
   "metadata": {},
   "source": [
    "# Matriz de confusión"
   ]
  },
  {
   "cell_type": "markdown",
   "metadata": {},
   "source": [
    "Ahora, se realizará la implementación de la matriz de confusión del modelo de Regresión Logística que se planteó con anterioridad.\n",
    "\n",
    "Nótese que ésta visualización permite encontrar métricas estadísticas y matemáticas para medir el desempeño del modelo, al mismo tiempo que deja ver si el éste está confundiendo una clase con otra.\n",
    "\n",
    "No necesariamente es de carácter binario, por lo cual es flexible a distintos tipos de clasificación.\n",
    "\n",
    "Es una comparación entre valores reales y valores predichos.\n",
    "\n",
    "<center> <img src = \"res/matriz.png\"> </center>\n",
    "\n",
    "A continuación, se utiliza \"confusion_matrix\" de sklearn.metrics para reportar esta información."
   ]
  },
  {
   "cell_type": "code",
   "execution_count": 87,
   "metadata": {},
   "outputs": [
    {
     "name": "stdout",
     "output_type": "stream",
     "text": [
      "                 tested_negative  tested_positive\n",
      "tested_negative               88               14\n",
      "tested_positive               23               29\n"
     ]
    }
   ],
   "source": [
    "matriz_confusion = confusion_matrix(y_test_diabetes, y_pred_test, labels=[\"tested_negative\", \"tested_positive\"])\n",
    "\n",
    "# Para mostrar de mejor forma la matriz\n",
    "table = pd.DataFrame(matriz_confusion)\n",
    "table.columns = [\"tested_negative\", \"tested_positive\"]\n",
    "table.index = [\"tested_negative\", \"tested_positive\"]\n",
    "print(table)"
   ]
  },
  {
   "cell_type": "markdown",
   "metadata": {},
   "source": [
    "Como puede observarse, este modelo presenta un problema con el dataset, dado que en 31 casos donde el paciente si sufre la enfermedad, los clasifica como negativos.\n",
    "\n",
    "A continuación se pueden describir las métricas vistas en clase, especialmente útiles cuando los datos estan desbalanceados. \n",
    "\n",
    "Los Falsos Positivos(FP), Falsos Negativos (FN), Verdaderos Positivos (VP) y Verdaderos Negativos (VN), que adquieren sentido cuando se trata de un problema de clasificación binaria."
   ]
  },
  {
   "cell_type": "code",
   "execution_count": 88,
   "metadata": {},
   "outputs": [],
   "source": [
    "VN, FP, FN, VP = matriz_confusion.ravel()"
   ]
  },
  {
   "cell_type": "markdown",
   "metadata": {},
   "source": [
    "Pueden imprimirse los valores correspondientes a VN, FP, FN y VP para corroborar que la información sea correcta en éstos. O bien, entender a qué corresponden."
   ]
  },
  {
   "cell_type": "markdown",
   "metadata": {},
   "source": [
    "# Métricas"
   ]
  },
  {
   "cell_type": "markdown",
   "metadata": {},
   "source": [
    "### Precisión del modelo:\n",
    "\n",
    "$$P = \\frac{VerdaderoPositivo}{VerdaderoPositivo + FalsoPositivo}$$\n",
    "\n",
    "Probabilidad de que el modelo no marque como positivo, una muestra negativo."
   ]
  },
  {
   "cell_type": "code",
   "execution_count": 89,
   "metadata": {},
   "outputs": [
    {
     "name": "stdout",
     "output_type": "stream",
     "text": [
      "La precisión del modelo es: 0.6744186046511628\n"
     ]
    }
   ],
   "source": [
    "P = VP/(VP+FP)\n",
    "print(\"La precisión del modelo es: \" + str(P))"
   ]
  },
  {
   "cell_type": "markdown",
   "metadata": {},
   "source": [
    "### Sensibilidad(Recall) del modelo:\n",
    "\n",
    "$$R = \\frac{VerdaderoPositivo}{VerdaderoPositivo + FalsoNegativo}$$\n",
    "\n",
    "Capacidad del modelo de encontrar los valores positivos."
   ]
  },
  {
   "cell_type": "code",
   "execution_count": 90,
   "metadata": {},
   "outputs": [
    {
     "name": "stdout",
     "output_type": "stream",
     "text": [
      "La sensibilidad del modelo es: 0.5576923076923077\n"
     ]
    }
   ],
   "source": [
    "R = VP/(VP+FN)\n",
    "print(\"La sensibilidad del modelo es: \" + str(R))"
   ]
  },
  {
   "cell_type": "markdown",
   "metadata": {},
   "source": [
    "### Especificidad del modelo:\n",
    "\n",
    "$$E = \\frac{VerdaderoNegativo}{VerdaderoNegativo + FalsoPositivo}$$\n",
    "\n",
    "Capacidad del modelo de encontrar elementos negativos."
   ]
  },
  {
   "cell_type": "code",
   "execution_count": 91,
   "metadata": {},
   "outputs": [
    {
     "name": "stdout",
     "output_type": "stream",
     "text": [
      "La especificidad del modelo es: 0.8627450980392157\n"
     ]
    }
   ],
   "source": [
    "E = VN/(VN+FP)\n",
    "print(\"La especificidad del modelo es: \" + str(E))"
   ]
  },
  {
   "cell_type": "markdown",
   "metadata": {},
   "source": [
    "### F1 Score:\n",
    "\n",
    "\n",
    "\n",
    "$$F1\\_score = \\frac{2 * P * R}{P + R}$$\n",
    "\n",
    "Promedio entre precisión y sensibilidad, que da igual importancia a ambos valores.\n"
   ]
  },
  {
   "cell_type": "code",
   "execution_count": 92,
   "metadata": {},
   "outputs": [
    {
     "name": "stdout",
     "output_type": "stream",
     "text": [
      "El F1-Score del modelo es: 0.6105263157894736\n"
     ]
    }
   ],
   "source": [
    "F = (2*P*R)/(P+R)\n",
    "print(\"El F1-Score del modelo es: \" + str(F))"
   ]
  },
  {
   "cell_type": "markdown",
   "metadata": {},
   "source": [
    "## El caso multi-clase.\n",
    "\n",
    "Si se encuentra un problema multi-clase, pueden utilizarse estas versiones del código.\n",
    "\n",
    "precision_score, recall_score, fbeta_score de la librería sklearn.metrics."
   ]
  },
  {
   "cell_type": "markdown",
   "metadata": {},
   "source": [
    "### AUC (Area Under Curve)\n",
    "\n",
    "Para modelos de clasificación binaria únicamente, como la Regresión Logística, puede definirse un threshold, tal que diferencie valores verdaderos o falsos.\n",
    "\n",
    "El umbral es muy importante, si es muy cercano a cero (como 0.1) el sistema tiende a clasificar todo como positivo, si es cercano a 1 (como 0.9) los objetos clasificados serán casi todos negativos y finalmente, si el umbral es 0.5 tenderá a clasificar todo por igual.\n",
    "\n",
    "Así mismo, para la métrica AUC se busca obtener valores asociados a la Sensibilidad $S$ y la Especificidad $E$, posteriormente construir el gráfico $S$ vs $1-P$.\n",
    "\n",
    "A continuación, se implementa el AUC para el modelo Regresión Logística aplicado al dataset de diabetes normalizado."
   ]
  },
  {
   "cell_type": "code",
   "execution_count": 93,
   "metadata": {},
   "outputs": [],
   "source": [
    "# Calculo del valor x para el caso de la regresión logistica\n",
    "y_score = regresion_logistica.decision_function(X_test_diabetes)"
   ]
  },
  {
   "cell_type": "code",
   "execution_count": 94,
   "metadata": {},
   "outputs": [
    {
     "name": "stdout",
     "output_type": "stream",
     "text": [
      "Los thresholds son: \n",
      "\n",
      "[ 3.03056962  2.03056962  1.04952705  0.9892534   0.96701031  0.93342154\n",
      "  0.83268782  0.80765295  0.78803103  0.77810861  0.74810516  0.61048451\n",
      "  0.28377605  0.20872431  0.2080793   0.19226775  0.15286856  0.15183809\n",
      "  0.1271095   0.06982802  0.03373333  0.02349163 -0.0291193  -0.19458699\n",
      " -0.20727986 -0.31752046 -0.3339387  -0.33747119 -0.39067488 -0.48636757\n",
      " -0.54967911 -0.61948724 -0.6263719  -0.65990193 -0.72918791 -0.74959934\n",
      " -0.7533297  -0.75522885 -0.80258262 -0.87301399 -0.88453856 -0.93118526\n",
      " -0.93605157 -0.9392842  -0.97521669 -1.09446418 -1.09489543 -1.16224463\n",
      " -1.23509951 -1.32667316 -1.32824509 -1.39478126 -1.41204999 -3.74128844]\n",
      "Los valores de sensibilidad son: \n",
      "\n",
      "[0.         0.01923077 0.13461538 0.13461538 0.15384615 0.15384615\n",
      " 0.19230769 0.19230769 0.21153846 0.21153846 0.23076923 0.23076923\n",
      " 0.40384615 0.40384615 0.42307692 0.42307692 0.46153846 0.46153846\n",
      " 0.5        0.5        0.55769231 0.55769231 0.57692308 0.57692308\n",
      " 0.61538462 0.61538462 0.63461538 0.63461538 0.65384615 0.65384615\n",
      " 0.73076923 0.73076923 0.75       0.75       0.78846154 0.78846154\n",
      " 0.80769231 0.80769231 0.82692308 0.82692308 0.86538462 0.86538462\n",
      " 0.88461538 0.88461538 0.92307692 0.92307692 0.94230769 0.94230769\n",
      " 0.96153846 0.96153846 0.98076923 0.98076923 1.         1.        ]\n",
      "Los valores de especificidad son: \n",
      "\n",
      "[1.         1.         1.         0.99019608 0.99019608 0.98039216\n",
      " 0.98039216 0.97058824 0.97058824 0.96078431 0.96078431 0.93137255\n",
      " 0.93137255 0.90196078 0.90196078 0.89215686 0.89215686 0.88235294\n",
      " 0.88235294 0.87254902 0.87254902 0.8627451  0.8627451  0.83333333\n",
      " 0.83333333 0.81372549 0.81372549 0.80392157 0.80392157 0.76470588\n",
      " 0.76470588 0.74509804 0.74509804 0.73529412 0.73529412 0.71568627\n",
      " 0.71568627 0.70588235 0.70588235 0.64705882 0.64705882 0.62745098\n",
      " 0.62745098 0.61764706 0.61764706 0.56862745 0.56862745 0.53921569\n",
      " 0.53921569 0.47058824 0.47058824 0.42156863 0.42156863 0.        ]\n"
     ]
    }
   ],
   "source": [
    "fpr, tpr, thresholds = roc_curve(y_test_diabetes, y_score, pos_label=\"tested_positive\")\n",
    "print(\"Los thresholds son: \\n\")\n",
    "print(thresholds)\n",
    "print(\"Los valores de sensibilidad son: \\n\")\n",
    "print(tpr) # imprimir la sensibilidad\n",
    "print(\"Los valores de especificidad son: \\n\")\n",
    "print(1-fpr) # imprimir la especificidad"
   ]
  },
  {
   "cell_type": "markdown",
   "metadata": {},
   "source": [
    "En el código anterior, se calculas varios valores de umbral (thresholds), cada uno acompañado de la sensibilidad (tpr) y el valor de 1-especificidad (fpr) que arrojaría la matriz de confusión de ese umbral."
   ]
  },
  {
   "cell_type": "markdown",
   "metadata": {},
   "source": [
    "### Finalmente, se muestra la curva ROC y la comparación con la peor configuración posible existente, con matplotlib."
   ]
  },
  {
   "cell_type": "code",
   "execution_count": 95,
   "metadata": {},
   "outputs": [
    {
     "data": {
      "text/plain": [
       "Text(0.5, 1.0, 'AUC')"
      ]
     },
     "execution_count": 95,
     "metadata": {},
     "output_type": "execute_result"
    },
    {
     "data": {
      "image/png": "[encoded data removed]",
      "text/plain": [
       "<Figure size 432x288 with 1 Axes>"
      ]
     },
     "metadata": {
      "needs_background": "light"
     },
     "output_type": "display_data"
    }
   ],
   "source": [
    "plt.plot(fpr, tpr)\n",
    "plt.plot([0, 1], [0, 1], 'k--')\n",
    "plt.xlim([0.0, 1.0])\n",
    "plt.ylim([0.0, 1.05])\n",
    "plt.xlabel('1 - Especificidad')\n",
    "plt.ylabel('Sensibilidad')\n",
    "plt.title('AUC')"
   ]
  },
  {
   "cell_type": "markdown",
   "metadata": {},
   "source": [
    "Ahora, el objetivo es calcular el AUC de la curva ROC, área que representa una medida de qué tan bueno o malo es el modelo estudiado. Entre mayor sea(cercano a 1), mucho mejor será el modelo.\n",
    "\n",
    "### Nota: \n",
    "Si un modelo se acerca a la linea punteada(AUC cercano a 0), significa que es un <i><b>MUY MAL</b></i> modelo."
   ]
  },
  {
   "cell_type": "code",
   "execution_count": 96,
   "metadata": {},
   "outputs": [
    {
     "name": "stdout",
     "output_type": "stream",
     "text": [
      "El área bajo la curva del modelo es: \n"
     ]
    },
    {
     "data": {
      "text/plain": [
       "0.8333333333333334"
      ]
     },
     "execution_count": 96,
     "metadata": {},
     "output_type": "execute_result"
    }
   ],
   "source": [
    "print(\"El área bajo la curva del modelo es: \")\n",
    "auc(fpr, tpr)"
   ]
  },
  {
   "cell_type": "markdown",
   "metadata": {},
   "source": [
    "Si se tuviera otro modelo distinto de clasificación binaria, podría compararse con el modelo de Regresión Logística, calculando sus AUC."
   ]
  },
  {
   "cell_type": "markdown",
   "metadata": {},
   "source": [
    "## Evaluación de modelos de regresión.\n",
    "\n",
    "Este tipo de evaluación, es distinta dado que se lidia con una variable que puede tomar infinitos valores.\n",
    "\n",
    "Una medida fácil de comprender, se conoce como MAE (Mean Absolute Error), o promedio de errores.\n",
    "\n",
    "$$ MAE = \\frac{1}{n} \\sum_{i=1}^{n}|Y_{predicho} - Y_{real}| $$\n",
    "\n",
    "El $MAE$ da un primer pincelazo y permite saber qué tan bueno es el modelo, si $MAE = 0$, significa que el ajuste del modelo es perfecto a los datos.\n",
    "\n",
    "Por otro lado, el error cuadrático medio $MSE$, promedio de errores al cuadrado, cuando es pequeño indica un buen ajuste del modelo y entre más alto sea, será peor el ajuste, respectivamente.\n",
    "\n",
    "$$ MSE = \\frac{1}{n} \\sum_{i=1}^{n}(Y_{predicho} - Y_{real})^2 $$\n",
    "\n",
    "### Nota:\n",
    "\n",
    "Debe tenerse cuidado con el análisis de los valores obtenidos en el MSE y el MAE, dependiendo de los datos, los valores pueden ser grandes o pequeños.\n",
    "\n",
    "Un ejemplo, es, supongamos que obtenemos un $MSE = 8$, antes de decidir si el modelo ajusta correctamente o no, debe estudiarse el tipo de dato que se está utilizando en el dataset y cuál es su rango de valores."
   ]
  },
  {
   "cell_type": "markdown",
   "metadata": {},
   "source": [
    "# Tarea:\n",
    "\n",
    "Implemente, una máquina de soporte vectorial (SVM) y utilícela sobre el mismo dataset. \n",
    "\n",
    "Compare los resultados mediante el área bajo la curva entre el modelo SVM y la regresión logística implementada en el notebook.\n",
    "\n",
    "Recuerde que debe utilizar los mismos conjuntos de datos para ambos modelos(recuerde que split entrega la distribución respetando la proporción que escoja el usuario, pero de forma aleatoria con los datos)."
   ]
  },
  {
   "cell_type": "markdown",
   "metadata": {},
   "source": [
    "# Introducción al Machine Learning"
   ]
  },
  {
   "cell_type": "markdown",
   "metadata": {},
   "source": [
    "El <b> Machine Learning </b> o <b> aprendizaje de máquina </b>, es una disciplina científica del ámbito de la Inteligencia Artificial, que desarrolla y experimenta sistemas que \"aprenden\" de forma automática.\n",
    "\n",
    "En este contexto, el \"aprendizaje\", quiere decir la identificación de patrones complejos en <i> millones de datos </i>.\n",
    "    \n",
    "Para entender un poco, qué aprende una máquina, realicemos esta analogía.\n",
    "\n",
    "Clásicamente, se desarrolla este tipo de trabajo en programación:\n",
    "\n",
    "$$Salida = Entrada + Algoritmo$$\n",
    "\n",
    "Recordemos que el dataset, viene de la forma $[x,Y]$, y por tanto $x$ representa el dato de entrada e $Y$ el dato de salida (que se considera verdadero). Por lo tanto, el \"dato\" desconocido en nuestra ecuación, es el algoritmo.\n",
    "\n",
    "Bajo este planteamiento:\n",
    "\n",
    "$$Algoritmo = Entrada + Salida$$\n",
    "\n",
    "Este es el paradigma de estudio.\n",
    "\n",
    "<center> <img src=\"res/ml.jpg\" style=\"width:500px;height:450px;\"> </center>"
   ]
  },
  {
   "cell_type": "markdown",
   "metadata": {},
   "source": [
    "# ¿Cómo podemos realizar Machine Learning?\n",
    "\n",
    "En este notebook, se utiliza Keras, aunque también puede hacerse con TensorFlow.\n",
    "\n",
    "La documentación que puede encontrarse esta en la página oficial de keras:\n",
    "\n",
    "https://keras.io\n",
    "\n",
    "También pueden realizarse numerosos tutoriales en la siguiente página:\n",
    "\n",
    "https://machinelearningmastery.com\n",
    "\n",
    "Sin olvidar los cursos que ofrecen plataformas virtuales como Coursera.\n",
    "\n",
    "## Sin más, vamos a crear nuestra primera red neuronal con Keras en un tutorial muy simple."
   ]
  },
  {
   "cell_type": "markdown",
   "metadata": {},
   "source": [
    "# Nuestra primera red neuronal."
   ]
  },
  {
   "cell_type": "markdown",
   "metadata": {},
   "source": [
    "## 1. Lectura de datos\n",
    "\n",
    "Antes de comenzar un ejercicio de clasificación, debemos conocer qué vamos a clasificar.\n",
    "\n",
    "Por lo tanto el primer paso es cargar el dataset."
   ]
  },
  {
   "cell_type": "markdown",
   "metadata": {},
   "source": [
    "### Es muy probable que importar librerías arroje problemas, recuerden instalar los paquetes de keras y tensorflow en anaconda."
   ]
  },
  {
   "cell_type": "code",
   "execution_count": 97,
   "metadata": {},
   "outputs": [
    {
     "name": "stderr",
     "output_type": "stream",
     "text": [
      "Using TensorFlow backend.\n"
     ]
    }
   ],
   "source": [
    "#Importar librerías\n",
    "from numpy import loadtxt\n",
    "from keras.models import Sequential\n",
    "from keras.layers import Dense"
   ]
  },
  {
   "cell_type": "code",
   "execution_count": 98,
   "metadata": {},
   "outputs": [],
   "source": [
    "dataset = loadtxt('datos/pima-indians-diabetes.csv', delimiter=',')"
   ]
  },
  {
   "cell_type": "code",
   "execution_count": 99,
   "metadata": {},
   "outputs": [
    {
     "data": {
      "text/plain": [
       "array([[  6.   , 148.   ,  72.   , ...,   0.627,  50.   ,   1.   ],\n",
       "       [  1.   ,  85.   ,  66.   , ...,   0.351,  31.   ,   0.   ],\n",
       "       [  8.   , 183.   ,  64.   , ...,   0.672,  32.   ,   1.   ],\n",
       "       ...,\n",
       "       [  5.   , 121.   ,  72.   , ...,   0.245,  30.   ,   0.   ],\n",
       "       [  1.   , 126.   ,  60.   , ...,   0.349,  47.   ,   1.   ],\n",
       "       [  1.   ,  93.   ,  70.   , ...,   0.315,  23.   ,   0.   ]])"
      ]
     },
     "execution_count": 99,
     "metadata": {},
     "output_type": "execute_result"
    }
   ],
   "source": [
    "dataset"
   ]
  },
  {
   "cell_type": "code",
   "execution_count": 100,
   "metadata": {},
   "outputs": [
    {
     "data": {
      "text/plain": [
       "(768, 9)"
      ]
     },
     "execution_count": 100,
     "metadata": {},
     "output_type": "execute_result"
    }
   ],
   "source": [
    "dataset.shape"
   ]
  },
  {
   "cell_type": "markdown",
   "metadata": {},
   "source": [
    "Este dataset tiene una visualización distinta al dataset de diabetes en pandas que se mostró anteriormente. Los datos no siempre se encuentran en un solo formato, es parte del reto trabajar con estas variaciones.\n",
    "\n",
    "## La última columna, representa la clase. Separemos los conjuntos X e Y, y posteriormente veamos si la clase es binaria."
   ]
  },
  {
   "cell_type": "code",
   "execution_count": 101,
   "metadata": {},
   "outputs": [],
   "source": [
    "X = dataset[:,0:8]\n",
    "y = dataset[:,8]\n",
    "#print(y)"
   ]
  },
  {
   "cell_type": "code",
   "execution_count": 108,
   "metadata": {},
   "outputs": [
    {
     "name": "stdout",
     "output_type": "stream",
     "text": [
      "(768, 8)\n"
     ]
    }
   ],
   "source": [
    "print(X.shape)"
   ]
  },
  {
   "cell_type": "code",
   "execution_count": 102,
   "metadata": {},
   "outputs": [
    {
     "name": "stdout",
     "output_type": "stream",
     "text": [
      "[[  6.    148.     72.    ...  33.6     0.627  50.   ]\n",
      " [  1.     85.     66.    ...  26.6     0.351  31.   ]\n",
      " [  8.    183.     64.    ...  23.3     0.672  32.   ]\n",
      " ...\n",
      " [  5.    121.     72.    ...  26.2     0.245  30.   ]\n",
      " [  1.    126.     60.    ...  30.1     0.349  47.   ]\n",
      " [  1.     93.     70.    ...  30.4     0.315  23.   ]]\n"
     ]
    }
   ],
   "source": [
    "print(X)"
   ]
  },
  {
   "cell_type": "code",
   "execution_count": 103,
   "metadata": {},
   "outputs": [
    {
     "name": "stdout",
     "output_type": "stream",
     "text": [
      "[1. 0. 1. 0. 1. 0. 1. 0. 1. 1. 0. 1. 0. 1. 1. 1. 1. 1. 0. 1. 0. 0. 1. 1.\n",
      " 1. 1. 1. 0. 0. 0. 0. 1. 0. 0. 0. 0. 0. 1. 1. 1. 0. 0. 0. 1. 0. 1. 0. 0.\n",
      " 1. 0. 0. 0. 0. 1. 0. 0. 1. 0. 0. 0. 0. 1. 0. 0. 1. 0. 1. 0. 0. 0. 1. 0.\n",
      " 1. 0. 0. 0. 0. 0. 1. 0. 0. 0. 0. 0. 1. 0. 0. 0. 1. 0. 0. 0. 0. 1. 0. 0.\n",
      " 0. 0. 0. 1. 1. 0. 0. 0. 0. 0. 0. 0. 0. 1. 1. 1. 0. 0. 1. 1. 1. 0. 0. 0.\n",
      " 1. 0. 0. 0. 1. 1. 0. 0. 1. 1. 1. 1. 1. 0. 0. 0. 0. 0. 0. 0. 0. 0. 0. 1.\n",
      " 0. 0. 0. 0. 0. 0. 0. 0. 1. 0. 1. 1. 0. 0. 0. 1. 0. 0. 0. 0. 1. 1. 0. 0.\n",
      " 0. 0. 1. 1. 0. 0. 0. 1. 0. 1. 0. 1. 0. 0. 0. 0. 0. 1. 1. 1. 1. 1. 0. 0.\n",
      " 1. 1. 0. 1. 0. 1. 1. 1. 0. 0. 0. 0. 0. 0. 1. 1. 0. 1. 0. 0. 0. 1. 1. 1.\n",
      " 1. 0. 1. 1. 1. 1. 0. 0. 0. 0. 0. 1. 0. 0. 1. 1. 0. 0. 0. 1. 1. 1. 1. 0.\n",
      " 0. 0. 1. 1. 0. 1. 0. 0. 0. 0. 0. 0. 0. 0. 1. 1. 0. 0. 0. 1. 0. 1. 0. 0.\n",
      " 1. 0. 1. 0. 0. 1. 1. 0. 0. 0. 0. 0. 1. 0. 0. 0. 1. 0. 0. 1. 1. 0. 0. 1.\n",
      " 0. 0. 0. 1. 1. 1. 0. 0. 1. 0. 1. 0. 1. 1. 0. 1. 0. 0. 1. 0. 1. 1. 0. 0.\n",
      " 1. 0. 1. 0. 0. 1. 0. 1. 0. 1. 1. 1. 0. 0. 1. 0. 1. 0. 0. 0. 1. 0. 0. 0.\n",
      " 0. 1. 1. 1. 0. 0. 0. 0. 0. 0. 0. 0. 0. 1. 0. 0. 0. 0. 0. 1. 1. 1. 0. 1.\n",
      " 1. 0. 0. 1. 0. 0. 1. 0. 0. 1. 1. 0. 0. 0. 0. 1. 0. 0. 1. 0. 0. 0. 0. 0.\n",
      " 0. 0. 1. 1. 1. 0. 0. 1. 0. 0. 1. 0. 0. 1. 0. 1. 1. 0. 1. 0. 1. 0. 1. 0.\n",
      " 1. 1. 0. 0. 0. 0. 1. 1. 0. 1. 0. 1. 0. 0. 0. 0. 1. 1. 0. 1. 0. 1. 0. 0.\n",
      " 0. 0. 0. 1. 0. 0. 0. 0. 1. 0. 0. 1. 1. 1. 0. 0. 1. 0. 0. 1. 0. 0. 0. 1.\n",
      " 0. 0. 1. 0. 0. 0. 0. 0. 0. 0. 0. 0. 1. 0. 0. 0. 0. 0. 0. 0. 1. 0. 0. 0.\n",
      " 1. 0. 0. 0. 1. 1. 0. 0. 0. 0. 0. 0. 0. 1. 0. 0. 0. 0. 1. 0. 0. 0. 1. 0.\n",
      " 0. 0. 1. 0. 0. 0. 1. 0. 0. 0. 0. 1. 1. 0. 0. 0. 0. 0. 0. 1. 0. 0. 0. 0.\n",
      " 0. 0. 0. 0. 0. 0. 0. 1. 0. 0. 0. 1. 1. 1. 1. 0. 0. 1. 1. 0. 0. 0. 0. 0.\n",
      " 0. 0. 0. 0. 0. 0. 0. 0. 1. 1. 0. 0. 0. 0. 0. 0. 0. 1. 0. 0. 0. 0. 0. 0.\n",
      " 0. 1. 0. 1. 1. 0. 0. 0. 1. 0. 1. 0. 1. 0. 1. 0. 1. 0. 0. 1. 0. 0. 1. 0.\n",
      " 0. 0. 0. 1. 1. 0. 1. 0. 0. 0. 0. 1. 1. 0. 1. 0. 0. 0. 1. 1. 0. 0. 0. 0.\n",
      " 0. 0. 0. 0. 0. 0. 1. 0. 0. 0. 0. 1. 0. 0. 1. 0. 0. 0. 1. 0. 0. 0. 1. 1.\n",
      " 1. 0. 0. 0. 0. 0. 0. 1. 0. 0. 0. 1. 0. 1. 1. 1. 1. 0. 1. 1. 0. 0. 0. 0.\n",
      " 0. 0. 0. 1. 1. 0. 1. 0. 0. 1. 0. 1. 0. 0. 0. 0. 0. 1. 0. 1. 0. 1. 0. 1.\n",
      " 1. 0. 0. 0. 0. 1. 1. 0. 0. 0. 1. 0. 1. 1. 0. 0. 1. 0. 0. 1. 1. 0. 0. 1.\n",
      " 0. 0. 1. 0. 0. 0. 0. 0. 0. 0. 1. 1. 1. 0. 0. 0. 0. 0. 0. 1. 1. 0. 0. 1.\n",
      " 0. 0. 1. 0. 1. 1. 1. 0. 0. 1. 1. 1. 0. 1. 0. 1. 0. 1. 0. 0. 0. 0. 1. 0.]\n"
     ]
    }
   ],
   "source": [
    "print(y)"
   ]
  },
  {
   "cell_type": "markdown",
   "metadata": {},
   "source": [
    "Si ejecutamos la instrucción print(y), se observa que es tipo binario. "
   ]
  },
  {
   "cell_type": "markdown",
   "metadata": {},
   "source": [
    "# 2. Keras\n",
    "\n",
    "Para construir una red neuronal en Keras, debe realizarse un modelo secuencial de \"layers\" (también llamados capas), un \"layer\" es un conjunto de neuronas que poseen una función de activación y unos pesos que ajustar.\n",
    "\n",
    "¿Cómo sabemos cuál es el mejor modelo para nuestro dataset?\n",
    "\n",
    "Tenemos muy pocos datos, no es sugerible una arquitectura con muchas neuronas, en este caso particular, escojamos 3 layers totalmente conectados.\n",
    "\n",
    "<center><img src = \"res/neu.jpg\"></center>\n",
    "\n",
    "<i> <center>Figura: El perceptron, w representa los pesos </center></i>\n",
    "\n",
    "Utilizaremos \"Dense\" para definir layers completamente conectados entre si, adicionalmente, podemos especificar el número de neuronas por layer en Keras, como veremos a continuación.\n",
    "\n",
    "De igual forma puede escogerse la función de activación, en la documentación se puede ver todas las funciones que ofrece Keras, escojamos una ReLu en este problema.\n",
    "\n",
    "https://keras.io/activations/\n",
    "\n",
    "<center><img src = \"res/layer.jpg\"></center>\n",
    "\n",
    "<i> <center>Figura: Concepto de layer </center></i>\n",
    "\n",
    "La arquitectura que planteamos para resolver este problema, es la siguiente:\n",
    "\n",
    "## Entrada de 8 variables (conjunto X, observar X.shape)\n",
    "## Primer capa oculta (hidden layer) con 12 nodos (neuronas) y función de activación ReLu.\n",
    "## Segunda capa oculta con 8 nodos y activación ReLu\n",
    "## Capa de salida con 1 nodo y activación Sigmoide\n",
    "\n",
    "Si se generan dudas acerca de qué es una función ReLu y una Sigmoide y cómo funcionan, a continuación hay documentación genérica sobre éstas.\n",
    "\n",
    "https://es.wikipedia.org/wiki/Funci%C3%B3n_sigmoide\n",
    "https://es.wikipedia.org/wiki/Rectificador_(redes_neuronales)\n",
    "\n",
    "## ¡Comencemos!"
   ]
  },
  {
   "cell_type": "code",
   "execution_count": 104,
   "metadata": {},
   "outputs": [
    {
     "name": "stderr",
     "output_type": "stream",
     "text": [
      "WARNING: Logging before flag parsing goes to stderr.\n",
      "W0822 19:06:25.092329 139958422423360 deprecation_wrapper.py:119] From /home/jeanpaul/.local/lib/python3.7/site-packages/keras/backend/tensorflow_backend.py:74: The name tf.get_default_graph is deprecated. Please use tf.compat.v1.get_default_graph instead.\n",
      "\n",
      "W0822 19:06:25.117657 139958422423360 deprecation_wrapper.py:119] From /home/jeanpaul/.local/lib/python3.7/site-packages/keras/backend/tensorflow_backend.py:517: The name tf.placeholder is deprecated. Please use tf.compat.v1.placeholder instead.\n",
      "\n",
      "W0822 19:06:25.121468 139958422423360 deprecation_wrapper.py:119] From /home/jeanpaul/.local/lib/python3.7/site-packages/keras/backend/tensorflow_backend.py:4138: The name tf.random_uniform is deprecated. Please use tf.random.uniform instead.\n",
      "\n"
     ]
    }
   ],
   "source": [
    "#definir el modelo, será secuencial dado que se pondrá un layer tras otro totalmente conectados\n",
    "model = Sequential()\n",
    "#Capa de entrada y primer capa oculta(ambos se ejecutan con esta instrucción)\n",
    "model.add(Dense(12, input_dim=8, activation='relu'))\n",
    "#Segunda capa oculta\n",
    "model.add(Dense(8, activation='relu'))\n",
    "#Capa de salida\n",
    "model.add(Dense(1, activation='sigmoid'))"
   ]
  },
  {
   "cell_type": "markdown",
   "metadata": {},
   "source": [
    "Una vez definido el modelo en Keras, lo compilamos.\n",
    "\n",
    "Esto permite un entrenamiento eficiente del modelo y una optimización del mismo. Adicionalmente, hay que escoger una función de pérdida. A continuación, en la documentación se muestra todas las disponibles en Keras.\n",
    "\n",
    "https://keras.io/losses/\n",
    "\n",
    "Ahora, escogemos la función de pérdida de entropía cruzada binaria (\"binary_crossentropy\").\n",
    "\n",
    "Por otro lado, el optimizador escogido será \"adam\". Una breve explicación aquí.\n",
    "\n",
    "https://machinelearningmastery.com/adam-optimization-algorithm-for-deep-learning/"
   ]
  },
  {
   "cell_type": "code",
   "execution_count": 105,
   "metadata": {},
   "outputs": [
    {
     "name": "stderr",
     "output_type": "stream",
     "text": [
      "W0822 19:06:25.193528 139958422423360 deprecation_wrapper.py:119] From /home/jeanpaul/.local/lib/python3.7/site-packages/keras/optimizers.py:790: The name tf.train.Optimizer is deprecated. Please use tf.compat.v1.train.Optimizer instead.\n",
      "\n",
      "W0822 19:06:25.216291 139958422423360 deprecation_wrapper.py:119] From /home/jeanpaul/.local/lib/python3.7/site-packages/keras/backend/tensorflow_backend.py:3376: The name tf.log is deprecated. Please use tf.math.log instead.\n",
      "\n",
      "W0822 19:06:25.224590 139958422423360 deprecation.py:323] From /home/jeanpaul/.local/lib/python3.7/site-packages/tensorflow/python/ops/nn_impl.py:180: add_dispatch_support.<locals>.wrapper (from tensorflow.python.ops.array_ops) is deprecated and will be removed in a future version.\n",
      "Instructions for updating:\n",
      "Use tf.where in 2.0, which has the same broadcast rule as np.where\n"
     ]
    }
   ],
   "source": [
    "model.compile(loss='binary_crossentropy', optimizer='adam', metrics=['accuracy'])"
   ]
  },
  {
   "cell_type": "markdown",
   "metadata": {},
   "source": [
    "Una vez compilado, hay que ejecutarlo sobre los datos.\n",
    "\n",
    "El proceso de entrenamiento correrá sobre los datos un número determinado de veces, cada vez que realice una iteración, ese tiempo gastado, será un \"epoch\".\n",
    "\n",
    "Escojamos el número de epochs para nuestro entrenamiento, en este caso, definamos epochs = 150. Puedes probar con 100, 200, 500, etc. \n",
    "\n",
    "Ahora, antes de actualizar el valor de los pesos, el modelo debe pasar por varios datos, ese número de filas de datos que utilice, lo definimos con batch_size, para el caso particular utilicemos 10 (por tanto cada 10 filas que recorra el modelo en el dataset, actualizará los pesos de las neuronas).\n",
    "\n",
    "Esta configuración puede ser sometida a ensayo y error y btenerse mejores o peores resultados,"
   ]
  },
  {
   "cell_type": "code",
   "execution_count": 106,
   "metadata": {
    "scrolled": false
   },
   "outputs": [
    {
     "name": "stderr",
     "output_type": "stream",
     "text": [
      "W0822 19:06:25.418286 139958422423360 deprecation_wrapper.py:119] From /home/jeanpaul/.local/lib/python3.7/site-packages/keras/backend/tensorflow_backend.py:986: The name tf.assign_add is deprecated. Please use tf.compat.v1.assign_add instead.\n",
      "\n"
     ]
    },
    {
     "name": "stdout",
     "output_type": "stream",
     "text": [
      "Epoch 1/150\n",
      "768/768 [==============================] - 0s 531us/step - loss: 3.7910 - acc: 0.6536\n",
      "Epoch 2/150\n",
      "768/768 [==============================] - 0s 134us/step - loss: 1.8603 - acc: 0.6445\n",
      "Epoch 3/150\n",
      "768/768 [==============================] - 0s 141us/step - loss: 1.1346 - acc: 0.6497\n",
      "Epoch 4/150\n",
      "768/768 [==============================] - 0s 155us/step - loss: 1.0029 - acc: 0.6328\n",
      "Epoch 5/150\n",
      "768/768 [==============================] - 0s 155us/step - loss: 0.8490 - acc: 0.6432\n",
      "Epoch 6/150\n",
      "768/768 [==============================] - 0s 165us/step - loss: 0.7433 - acc: 0.6354\n",
      "Epoch 7/150\n",
      "768/768 [==============================] - 0s 144us/step - loss: 0.7385 - acc: 0.6393\n",
      "Epoch 8/150\n",
      "768/768 [==============================] - 0s 125us/step - loss: 0.7112 - acc: 0.6263\n",
      "Epoch 9/150\n",
      "768/768 [==============================] - 0s 144us/step - loss: 0.6740 - acc: 0.6680\n",
      "Epoch 10/150\n",
      "768/768 [==============================] - 0s 150us/step - loss: 0.6588 - acc: 0.6680\n",
      "Epoch 11/150\n",
      "768/768 [==============================] - 0s 155us/step - loss: 0.6512 - acc: 0.6706\n",
      "Epoch 12/150\n",
      "768/768 [==============================] - 0s 158us/step - loss: 0.6356 - acc: 0.6797\n",
      "Epoch 13/150\n",
      "768/768 [==============================] - 0s 165us/step - loss: 0.6381 - acc: 0.6771\n",
      "Epoch 14/150\n",
      "768/768 [==============================] - 0s 132us/step - loss: 0.6303 - acc: 0.6693\n",
      "Epoch 15/150\n",
      "768/768 [==============================] - 0s 160us/step - loss: 0.6203 - acc: 0.6758\n",
      "Epoch 16/150\n",
      "768/768 [==============================] - 0s 152us/step - loss: 0.6363 - acc: 0.6667\n",
      "Epoch 17/150\n",
      "768/768 [==============================] - 0s 144us/step - loss: 0.6177 - acc: 0.6758\n",
      "Epoch 18/150\n",
      "768/768 [==============================] - 0s 170us/step - loss: 0.6100 - acc: 0.6745\n",
      "Epoch 19/150\n",
      "768/768 [==============================] - 0s 132us/step - loss: 0.6011 - acc: 0.6849\n",
      "Epoch 20/150\n",
      "768/768 [==============================] - 0s 162us/step - loss: 0.5995 - acc: 0.7044\n",
      "Epoch 21/150\n",
      "768/768 [==============================] - 0s 144us/step - loss: 0.6013 - acc: 0.6836\n",
      "Epoch 22/150\n",
      "768/768 [==============================] - 0s 152us/step - loss: 0.5882 - acc: 0.7057\n",
      "Epoch 23/150\n",
      "768/768 [==============================] - 0s 137us/step - loss: 0.5983 - acc: 0.6966\n",
      "Epoch 24/150\n",
      "768/768 [==============================] - 0s 159us/step - loss: 0.5965 - acc: 0.6966\n",
      "Epoch 25/150\n",
      "768/768 [==============================] - 0s 149us/step - loss: 0.5967 - acc: 0.6836\n",
      "Epoch 26/150\n",
      "768/768 [==============================] - 0s 155us/step - loss: 0.5829 - acc: 0.7135\n",
      "Epoch 27/150\n",
      "768/768 [==============================] - 0s 173us/step - loss: 0.5880 - acc: 0.7044\n",
      "Epoch 28/150\n",
      "768/768 [==============================] - 0s 158us/step - loss: 0.5861 - acc: 0.7005\n",
      "Epoch 29/150\n",
      "768/768 [==============================] - 0s 144us/step - loss: 0.5790 - acc: 0.7044\n",
      "Epoch 30/150\n",
      "768/768 [==============================] - 0s 164us/step - loss: 0.5774 - acc: 0.7057\n",
      "Epoch 31/150\n",
      "768/768 [==============================] - 0s 153us/step - loss: 0.5871 - acc: 0.7005\n",
      "Epoch 32/150\n",
      "768/768 [==============================] - 0s 152us/step - loss: 0.5862 - acc: 0.7096\n",
      "Epoch 33/150\n",
      "768/768 [==============================] - 0s 168us/step - loss: 0.5774 - acc: 0.7044\n",
      "Epoch 34/150\n",
      "768/768 [==============================] - 0s 143us/step - loss: 0.5692 - acc: 0.7031\n",
      "Epoch 35/150\n",
      "768/768 [==============================] - 0s 155us/step - loss: 0.5718 - acc: 0.7135\n",
      "Epoch 36/150\n",
      "768/768 [==============================] - 0s 156us/step - loss: 0.5693 - acc: 0.6992\n",
      "Epoch 37/150\n",
      "768/768 [==============================] - 0s 167us/step - loss: 0.5708 - acc: 0.7031\n",
      "Epoch 38/150\n",
      "768/768 [==============================] - 0s 141us/step - loss: 0.5583 - acc: 0.7253\n",
      "Epoch 39/150\n",
      "768/768 [==============================] - 0s 160us/step - loss: 0.5666 - acc: 0.7214\n",
      "Epoch 40/150\n",
      "768/768 [==============================] - 0s 152us/step - loss: 0.5708 - acc: 0.7083\n",
      "Epoch 41/150\n",
      "768/768 [==============================] - 0s 147us/step - loss: 0.5613 - acc: 0.7383\n",
      "Epoch 42/150\n",
      "768/768 [==============================] - 0s 168us/step - loss: 0.5618 - acc: 0.7096\n",
      "Epoch 43/150\n",
      "768/768 [==============================] - 0s 152us/step - loss: 0.5669 - acc: 0.7122\n",
      "Epoch 44/150\n",
      "768/768 [==============================] - 0s 171us/step - loss: 0.5536 - acc: 0.7253\n",
      "Epoch 45/150\n",
      "768/768 [==============================] - 0s 144us/step - loss: 0.5643 - acc: 0.7253\n",
      "Epoch 46/150\n",
      "768/768 [==============================] - 0s 155us/step - loss: 0.5553 - acc: 0.7240\n",
      "Epoch 47/150\n",
      "768/768 [==============================] - 0s 152us/step - loss: 0.5501 - acc: 0.7187\n",
      "Epoch 48/150\n",
      "768/768 [==============================] - 0s 167us/step - loss: 0.5452 - acc: 0.7409\n",
      "Epoch 49/150\n",
      "768/768 [==============================] - 0s 136us/step - loss: 0.5446 - acc: 0.7253\n",
      "Epoch 50/150\n",
      "768/768 [==============================] - 0s 129us/step - loss: 0.5465 - acc: 0.7331\n",
      "Epoch 51/150\n",
      "768/768 [==============================] - 0s 164us/step - loss: 0.5446 - acc: 0.7266\n",
      "Epoch 52/150\n",
      "768/768 [==============================] - 0s 151us/step - loss: 0.5388 - acc: 0.7161\n",
      "Epoch 53/150\n",
      "768/768 [==============================] - 0s 154us/step - loss: 0.5367 - acc: 0.7448\n",
      "Epoch 54/150\n",
      "768/768 [==============================] - 0s 175us/step - loss: 0.5360 - acc: 0.7279\n",
      "Epoch 55/150\n",
      "768/768 [==============================] - 0s 149us/step - loss: 0.5418 - acc: 0.7266\n",
      "Epoch 56/150\n",
      "768/768 [==============================] - 0s 148us/step - loss: 0.5381 - acc: 0.7396\n",
      "Epoch 57/150\n",
      "768/768 [==============================] - 0s 163us/step - loss: 0.5365 - acc: 0.7331\n",
      "Epoch 58/150\n",
      "768/768 [==============================] - 0s 147us/step - loss: 0.5542 - acc: 0.7253\n",
      "Epoch 59/150\n",
      "768/768 [==============================] - 0s 149us/step - loss: 0.5274 - acc: 0.7318\n",
      "Epoch 60/150\n",
      "768/768 [==============================] - 0s 178us/step - loss: 0.5259 - acc: 0.7435\n",
      "Epoch 61/150\n",
      "768/768 [==============================] - 0s 147us/step - loss: 0.5306 - acc: 0.7474\n",
      "Epoch 62/150\n",
      "768/768 [==============================] - 0s 170us/step - loss: 0.5230 - acc: 0.7461\n",
      "Epoch 63/150\n",
      "768/768 [==============================] - 0s 159us/step - loss: 0.5327 - acc: 0.7318\n",
      "Epoch 64/150\n",
      "768/768 [==============================] - 0s 150us/step - loss: 0.5376 - acc: 0.7305\n",
      "Epoch 65/150\n",
      "768/768 [==============================] - 0s 166us/step - loss: 0.5276 - acc: 0.7487\n",
      "Epoch 66/150\n",
      "768/768 [==============================] - 0s 156us/step - loss: 0.5166 - acc: 0.7448\n",
      "Epoch 67/150\n",
      "768/768 [==============================] - 0s 171us/step - loss: 0.5255 - acc: 0.7487\n",
      "Epoch 68/150\n",
      "768/768 [==============================] - 0s 152us/step - loss: 0.5226 - acc: 0.7396\n",
      "Epoch 69/150\n",
      "768/768 [==============================] - 0s 158us/step - loss: 0.5281 - acc: 0.7513\n",
      "Epoch 70/150\n",
      "768/768 [==============================] - 0s 148us/step - loss: 0.5200 - acc: 0.7461\n",
      "Epoch 71/150\n",
      "768/768 [==============================] - 0s 156us/step - loss: 0.5185 - acc: 0.7539\n",
      "Epoch 72/150\n",
      "768/768 [==============================] - 0s 177us/step - loss: 0.5257 - acc: 0.7474\n",
      "Epoch 73/150\n",
      "768/768 [==============================] - 0s 159us/step - loss: 0.5202 - acc: 0.7266\n",
      "Epoch 74/150\n",
      "768/768 [==============================] - 0s 137us/step - loss: 0.5289 - acc: 0.7318\n",
      "Epoch 75/150\n",
      "768/768 [==============================] - 0s 149us/step - loss: 0.5150 - acc: 0.7448\n",
      "Epoch 76/150\n",
      "768/768 [==============================] - 0s 175us/step - loss: 0.5246 - acc: 0.7422\n",
      "Epoch 77/150\n",
      "768/768 [==============================] - 0s 152us/step - loss: 0.5117 - acc: 0.7513\n",
      "Epoch 78/150\n",
      "768/768 [==============================] - 0s 170us/step - loss: 0.5080 - acc: 0.7513\n",
      "Epoch 79/150\n",
      "768/768 [==============================] - 0s 148us/step - loss: 0.5167 - acc: 0.7487\n",
      "Epoch 80/150\n",
      "768/768 [==============================] - 0s 166us/step - loss: 0.5117 - acc: 0.7448\n",
      "Epoch 81/150\n",
      "768/768 [==============================] - 0s 218us/step - loss: 0.5111 - acc: 0.7630\n",
      "Epoch 82/150\n",
      "768/768 [==============================] - 0s 230us/step - loss: 0.5102 - acc: 0.7474\n",
      "Epoch 83/150\n"
     ]
    },
    {
     "name": "stdout",
     "output_type": "stream",
     "text": [
      "768/768 [==============================] - 0s 280us/step - loss: 0.5228 - acc: 0.7552\n",
      "Epoch 84/150\n",
      "768/768 [==============================] - 0s 145us/step - loss: 0.5120 - acc: 0.7461\n",
      "Epoch 85/150\n",
      "768/768 [==============================] - 0s 160us/step - loss: 0.5385 - acc: 0.7292\n",
      "Epoch 86/150\n",
      "768/768 [==============================] - 0s 150us/step - loss: 0.5140 - acc: 0.7513\n",
      "Epoch 87/150\n",
      "768/768 [==============================] - 0s 156us/step - loss: 0.5124 - acc: 0.7448\n",
      "Epoch 88/150\n",
      "768/768 [==============================] - 0s 151us/step - loss: 0.5074 - acc: 0.7552\n",
      "Epoch 89/150\n",
      "768/768 [==============================] - 0s 155us/step - loss: 0.5121 - acc: 0.7500\n",
      "Epoch 90/150\n",
      "768/768 [==============================] - 0s 139us/step - loss: 0.5071 - acc: 0.7461\n",
      "Epoch 91/150\n",
      "768/768 [==============================] - 0s 164us/step - loss: 0.5185 - acc: 0.7370\n",
      "Epoch 92/150\n",
      "768/768 [==============================] - 0s 135us/step - loss: 0.5108 - acc: 0.7539\n",
      "Epoch 93/150\n",
      "768/768 [==============================] - 0s 160us/step - loss: 0.5084 - acc: 0.7422\n",
      "Epoch 94/150\n",
      "768/768 [==============================] - 0s 139us/step - loss: 0.5109 - acc: 0.7526\n",
      "Epoch 95/150\n",
      "768/768 [==============================] - 0s 151us/step - loss: 0.5055 - acc: 0.7565\n",
      "Epoch 96/150\n",
      "768/768 [==============================] - 0s 144us/step - loss: 0.5102 - acc: 0.7552\n",
      "Epoch 97/150\n",
      "768/768 [==============================] - 0s 171us/step - loss: 0.5045 - acc: 0.7487\n",
      "Epoch 98/150\n",
      "768/768 [==============================] - 0s 217us/step - loss: 0.5081 - acc: 0.7578\n",
      "Epoch 99/150\n",
      "768/768 [==============================] - 0s 137us/step - loss: 0.5074 - acc: 0.7604\n",
      "Epoch 100/150\n",
      "768/768 [==============================] - 0s 150us/step - loss: 0.5090 - acc: 0.7461\n",
      "Epoch 101/150\n",
      "768/768 [==============================] - 0s 176us/step - loss: 0.4989 - acc: 0.7630\n",
      "Epoch 102/150\n",
      "768/768 [==============================] - 0s 134us/step - loss: 0.4997 - acc: 0.7578\n",
      "Epoch 103/150\n",
      "768/768 [==============================] - 0s 162us/step - loss: 0.5060 - acc: 0.7565\n",
      "Epoch 104/150\n",
      "768/768 [==============================] - 0s 146us/step - loss: 0.4943 - acc: 0.7604\n",
      "Epoch 105/150\n",
      "768/768 [==============================] - 0s 134us/step - loss: 0.5064 - acc: 0.7513\n",
      "Epoch 106/150\n",
      "768/768 [==============================] - 0s 148us/step - loss: 0.5016 - acc: 0.7409\n",
      "Epoch 107/150\n",
      "768/768 [==============================] - 0s 148us/step - loss: 0.4958 - acc: 0.7591\n",
      "Epoch 108/150\n",
      "768/768 [==============================] - 0s 260us/step - loss: 0.4960 - acc: 0.7591\n",
      "Epoch 109/150\n",
      "768/768 [==============================] - 0s 200us/step - loss: 0.4905 - acc: 0.7669\n",
      "Epoch 110/150\n",
      "768/768 [==============================] - 0s 140us/step - loss: 0.4929 - acc: 0.7682\n",
      "Epoch 111/150\n",
      "768/768 [==============================] - 0s 203us/step - loss: 0.5060 - acc: 0.7513\n",
      "Epoch 112/150\n",
      "768/768 [==============================] - 0s 277us/step - loss: 0.4937 - acc: 0.7630\n",
      "Epoch 113/150\n",
      "768/768 [==============================] - 0s 187us/step - loss: 0.4946 - acc: 0.7578\n",
      "Epoch 114/150\n",
      "768/768 [==============================] - 0s 186us/step - loss: 0.4917 - acc: 0.7695\n",
      "Epoch 115/150\n",
      "768/768 [==============================] - 0s 232us/step - loss: 0.4989 - acc: 0.7682\n",
      "Epoch 116/150\n",
      "768/768 [==============================] - 0s 208us/step - loss: 0.4928 - acc: 0.7617\n",
      "Epoch 117/150\n",
      "768/768 [==============================] - 0s 178us/step - loss: 0.4996 - acc: 0.7656\n",
      "Epoch 118/150\n",
      "768/768 [==============================] - 0s 227us/step - loss: 0.5047 - acc: 0.7604\n",
      "Epoch 119/150\n",
      "768/768 [==============================] - 0s 252us/step - loss: 0.5005 - acc: 0.7617\n",
      "Epoch 120/150\n",
      "768/768 [==============================] - 0s 233us/step - loss: 0.5034 - acc: 0.7513\n",
      "Epoch 121/150\n",
      "768/768 [==============================] - 0s 210us/step - loss: 0.4908 - acc: 0.7669\n",
      "Epoch 122/150\n",
      "768/768 [==============================] - 0s 316us/step - loss: 0.4867 - acc: 0.7591\n",
      "Epoch 123/150\n",
      "768/768 [==============================] - 0s 151us/step - loss: 0.5053 - acc: 0.7500\n",
      "Epoch 124/150\n",
      "768/768 [==============================] - 0s 155us/step - loss: 0.4915 - acc: 0.7656\n",
      "Epoch 125/150\n",
      "768/768 [==============================] - 0s 216us/step - loss: 0.4921 - acc: 0.7747\n",
      "Epoch 126/150\n",
      "768/768 [==============================] - 0s 272us/step - loss: 0.4883 - acc: 0.7552\n",
      "Epoch 127/150\n",
      "768/768 [==============================] - 0s 158us/step - loss: 0.4955 - acc: 0.7669\n",
      "Epoch 128/150\n",
      "768/768 [==============================] - 0s 269us/step - loss: 0.4931 - acc: 0.7513\n",
      "Epoch 129/150\n",
      "768/768 [==============================] - 0s 223us/step - loss: 0.4963 - acc: 0.7500\n",
      "Epoch 130/150\n",
      "768/768 [==============================] - 0s 172us/step - loss: 0.5000 - acc: 0.7578\n",
      "Epoch 131/150\n",
      "768/768 [==============================] - 0s 203us/step - loss: 0.4977 - acc: 0.7513\n",
      "Epoch 132/150\n",
      "768/768 [==============================] - 0s 208us/step - loss: 0.4884 - acc: 0.7591\n",
      "Epoch 133/150\n",
      "768/768 [==============================] - 0s 295us/step - loss: 0.4843 - acc: 0.7643\n",
      "Epoch 134/150\n",
      "768/768 [==============================] - 0s 198us/step - loss: 0.4864 - acc: 0.7643\n",
      "Epoch 135/150\n",
      "768/768 [==============================] - 0s 166us/step - loss: 0.4863 - acc: 0.7617\n",
      "Epoch 136/150\n",
      "768/768 [==============================] - 0s 153us/step - loss: 0.4808 - acc: 0.7630\n",
      "Epoch 137/150\n",
      "768/768 [==============================] - 0s 168us/step - loss: 0.4892 - acc: 0.7695\n",
      "Epoch 138/150\n",
      "768/768 [==============================] - 0s 143us/step - loss: 0.4932 - acc: 0.7578\n",
      "Epoch 139/150\n",
      "768/768 [==============================] - 0s 155us/step - loss: 0.4859 - acc: 0.7513\n",
      "Epoch 140/150\n",
      "768/768 [==============================] - 0s 168us/step - loss: 0.4742 - acc: 0.7669\n",
      "Epoch 141/150\n",
      "768/768 [==============================] - 0s 158us/step - loss: 0.4795 - acc: 0.7669\n",
      "Epoch 142/150\n",
      "768/768 [==============================] - 0s 148us/step - loss: 0.4883 - acc: 0.7552\n",
      "Epoch 143/150\n",
      "768/768 [==============================] - 0s 171us/step - loss: 0.4815 - acc: 0.7630\n",
      "Epoch 144/150\n",
      "768/768 [==============================] - 0s 149us/step - loss: 0.4891 - acc: 0.7643\n",
      "Epoch 145/150\n",
      "768/768 [==============================] - 0s 147us/step - loss: 0.4807 - acc: 0.7604\n",
      "Epoch 146/150\n",
      "768/768 [==============================] - 0s 153us/step - loss: 0.4866 - acc: 0.7604\n",
      "Epoch 147/150\n",
      "768/768 [==============================] - 0s 151us/step - loss: 0.4791 - acc: 0.7630\n",
      "Epoch 148/150\n",
      "768/768 [==============================] - 0s 151us/step - loss: 0.4862 - acc: 0.7656\n",
      "Epoch 149/150\n",
      "768/768 [==============================] - 0s 148us/step - loss: 0.4769 - acc: 0.7604\n",
      "Epoch 150/150\n",
      "768/768 [==============================] - 0s 160us/step - loss: 0.4839 - acc: 0.7734\n"
     ]
    },
    {
     "data": {
      "text/plain": [
       "<keras.callbacks.History at 0x7f4a3ea096d8>"
      ]
     },
     "execution_count": 106,
     "metadata": {},
     "output_type": "execute_result"
    }
   ],
   "source": [
    "model.fit(X, y, epochs=150, batch_size=10)"
   ]
  },
  {
   "cell_type": "markdown",
   "metadata": {},
   "source": [
    "La precisión del modelo varía en cada epoch, en promedio se puede decir que es de 0.77.\n",
    "\n",
    "Finalmente, realicemos algunas predicciones sobre el modelo, para ver su comportamiento."
   ]
  },
  {
   "cell_type": "code",
   "execution_count": 107,
   "metadata": {},
   "outputs": [
    {
     "name": "stdout",
     "output_type": "stream",
     "text": [
      "[6.0, 148.0, 72.0, 35.0, 0.0, 33.6, 0.627, 50.0] => 1 (expected 1)\n",
      "[1.0, 85.0, 66.0, 29.0, 0.0, 26.6, 0.351, 31.0] => 0 (expected 0)\n",
      "[8.0, 183.0, 64.0, 0.0, 0.0, 23.3, 0.672, 32.0] => 1 (expected 1)\n",
      "[1.0, 89.0, 66.0, 23.0, 94.0, 28.1, 0.167, 21.0] => 0 (expected 0)\n",
      "[0.0, 137.0, 40.0, 35.0, 168.0, 43.1, 2.288, 33.0] => 1 (expected 1)\n",
      "[5.0, 116.0, 74.0, 0.0, 0.0, 25.6, 0.201, 30.0] => 0 (expected 0)\n",
      "[3.0, 78.0, 50.0, 32.0, 88.0, 31.0, 0.248, 26.0] => 0 (expected 1)\n",
      "[10.0, 115.0, 0.0, 0.0, 0.0, 35.3, 0.134, 29.0] => 1 (expected 0)\n",
      "[2.0, 197.0, 70.0, 45.0, 543.0, 30.5, 0.158, 53.0] => 1 (expected 1)\n",
      "[8.0, 125.0, 96.0, 0.0, 0.0, 0.0, 0.232, 54.0] => 0 (expected 1)\n"
     ]
    }
   ],
   "source": [
    "predictions = model.predict_classes(X)\n",
    "for i in range(10):\n",
    "    print('%s => %d (expected %d)' % (X[i].tolist(), predictions[i], y[i]))"
   ]
  },
  {
   "cell_type": "markdown",
   "metadata": {},
   "source": [
    "Para los primeros 10 datos, el modelo erró en la predicción de 3 de ellos, lo que da una precisión del 70%, no alejada de la realidad."
   ]
  },
  {
   "cell_type": "markdown",
   "metadata": {},
   "source": [
    "# Tarea:\n",
    "\n",
    "Formule un modelo de clasificación supervisada y un modelo de clasificación no supervisado, haciendo uso del dataset que se encuentra en la carpeta \"dataset tarea\".\n",
    "\n",
    "Debe presentar junto a estos, sus respectivas métricas de desempeño."
   ]
  },
  {
   "cell_type": "code",
   "execution_count": null,
   "metadata": {},
   "outputs": [],
   "source": []
  }
 ],
 "metadata": {
  "kernelspec": {
   "display_name": "Python 3",
   "language": "python",
   "name": "python3"
  },
  "language_info": {
   "codemirror_mode": {
    "name": "ipython",
    "version": 3
   },
   "file_extension": ".py",
   "mimetype": "text/x-python",
   "name": "python",
   "nbconvert_exporter": "python",
   "pygments_lexer": "ipython3",
   "version": "3.7.3"
  }
 },
 "nbformat": 4,
 "nbformat_minor": 2
}
